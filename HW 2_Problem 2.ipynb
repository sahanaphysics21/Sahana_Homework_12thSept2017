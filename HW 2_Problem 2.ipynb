{
 "cells": [
  {
   "cell_type": "code",
   "execution_count": 1,
   "metadata": {},
   "outputs": [
    {
     "name": "stdout",
     "output_type": "stream",
     "text": [
      "Input the Time86400\n",
      "Altitude 42220539.176174976\n"
     ]
    }
   ],
   "source": [
    "#Problem 2\n",
    "\n",
    "import numpy as np\n",
    "T=float(input(\"Input the Time\"))\n",
    "G=6.67e-11\n",
    "M=5.97e24\n",
    "R=6371\n",
    "a=(G*M/4)\n",
    "b=(T/np.pi)**2\n",
    "h=(a*b)**(1/3)-R\n",
    "print(\"Altitude\",h)"
   ]
  }
 ],
 "metadata": {
  "kernelspec": {
   "display_name": "Python 3",
   "language": "python",
   "name": "python3"
  },
  "language_info": {
   "codemirror_mode": {
    "name": "ipython",
    "version": 3
   },
   "file_extension": ".py",
   "mimetype": "text/x-python",
   "name": "python",
   "nbconvert_exporter": "python",
   "pygments_lexer": "ipython3",
   "version": "3.6.1"
  }
 },
 "nbformat": 4,
 "nbformat_minor": 2
}
