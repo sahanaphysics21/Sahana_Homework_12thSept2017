{
 "cells": [
  {
   "cell_type": "code",
   "execution_count": 3,
   "metadata": {},
   "outputs": [
    {
     "name": "stdout",
     "output_type": "stream",
     "text": [
      "Input the Time 86400\n",
      "Altitude 35855910.176174976\n"
     ]
    }
   ],
   "source": [
    "    #Problem 2: Geostationary Sattelite \n",
    "\n",
    "    import numpy as np\n",
    "    T=float(input(\"Input the Time \"))\n",
    "    G=6.67e-11\n",
    "    M=5.97e24\n",
    "    R=6371e3\n",
    "    a=(G*M/4)\n",
    "    b=(T/np.pi)**2\n",
    "    h=(a*b)**(1/3)-R\n",
    "    print(\"Altitude\",h)"
   ]
  },
  {
   "cell_type": "code",
   "execution_count": 4,
   "metadata": {},
   "outputs": [
    {
     "name": "stdout",
     "output_type": "stream",
     "text": [
      "Input the Time 86148\n",
      "Altitude 35773762.329895645\n"
     ]
    }
   ],
   "source": [
    "#Geosynchronous Sattelite \n",
    "import numpy as np\n",
    "T=float(input(\"Input the Time \"))\n",
    "G=6.67e-11\n",
    "M=5.97e24\n",
    "R=6371e3\n",
    "a=(G*M/4)\n",
    "b=(T/np.pi)**2\n",
    "h=(a*b)**(1/3)-R\n",
    "print(\"Altitude\",h)"
   ]
  },
  {
   "cell_type": "code",
   "execution_count": 5,
   "metadata": {},
   "outputs": [
    {
     "name": "stdout",
     "output_type": "stream",
     "text": [
      "Input the Time 5400\n",
      "Altitude 279321.6253728606\n"
     ]
    }
   ],
   "source": [
    "#Sattelite that orbits earth once in every 90 minute \n",
    "import numpy as np\n",
    "T=float(input(\"Input the Time \"))\n",
    "G=6.67e-11\n",
    "M=5.97e24\n",
    "R=6371e3\n",
    "a=(G*M/4)\n",
    "b=(T/np.pi)**2\n",
    "h=(a*b)**(1/3)-R\n",
    "print(\"Altitude\",h)"
   ]
  },
  {
   "cell_type": "code",
   "execution_count": 10,
   "metadata": {},
   "outputs": [
    {
     "name": "stdout",
     "output_type": "stream",
     "text": [
      "Input the Time 2700\n",
      "Altitude -2181559.897810823\n"
     ]
    }
   ],
   "source": [
    "#Sattelite that orbits earth once in every 45 minute \n",
    "import numpy as np\n",
    "T=float(input(\"Input the Time \"))\n",
    "G=6.67e-11\n",
    "M=5.97e24\n",
    "R=6371e3\n",
    "a=(G*M/4)\n",
    "b=(T/np.pi)**2\n",
    "h=(a*b)**(1/3)-R\n",
    "print(\"Altitude\",h)\n",
    "\n",
    "#This gives negative altitude, hence 45 minutes is not possible for any physical system. "
   ]
  }
 ],
 "metadata": {
  "kernelspec": {
   "display_name": "Python 3",
   "language": "python",
   "name": "python3"
  },
  "language_info": {
   "codemirror_mode": {
    "name": "ipython",
    "version": 3
   },
   "file_extension": ".py",
   "mimetype": "text/x-python",
   "name": "python",
   "nbconvert_exporter": "python",
   "pygments_lexer": "ipython3",
   "version": "3.6.1"
  }
 },
 "nbformat": 4,
 "nbformat_minor": 2
}
